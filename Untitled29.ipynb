{
 "cells": [
  {
   "cell_type": "markdown",
   "metadata": {},
   "source": [
    "## Задание 1:\n",
    "Отдел продаж запросил обновляющуюся выгрузку «зависших» клиентов, т.е. клиентов у\n",
    "которых заявка в статусе «в работе». В выгрузку необходимо добавить обязательное поле\n",
    "для фильтрации «Кол-во дней, прошедших с оформления заявки»."
   ]
  },
  {
   "cell_type": "code",
   "execution_count": null,
   "metadata": {},
   "outputs": [],
   "source": [
    "# SQL-запрос\n",
    "\n",
    "SELECT KeyC AS key_client,\n",
    "       KeyZ AS key_application,\n",
    "       date_application,\n",
    "       EXTRACT('day' FROM current_date - date_application) AS days_passed\n",
    "FROM (SELECT KeyC,\n",
    "       KeyZ,\n",
    "       datA AS date_application,\n",
    "       MAX(datA) OVER (PARTITION BY KeyC) AS max_date\n",
    "FROM application\n",
    "ORDER BY 1) AS t\n",
    "WHERE date_application = max_date\n",
    "AND KeyZ NOT IN (SELECT KeyZ\n",
    "                 FROM application\n",
    "                 WHERE statuZ='отказ'\n",
    "                 OR statuZ='выдан'\n",
    "                 OR statuZ='закрыт')\n",
    "ORDER BY 4 DESC"
   ]
  },
  {
   "cell_type": "markdown",
   "metadata": {},
   "source": [
    "## Задание 2:\n",
    "Маркетинг хочет провести акцию и для этого им нужны список постоянных клиентов\n",
    "(постоянный клиентом – это клиент который закрыл хотя бы один займ), которые\n",
    "удовлетворяют всем следующим условиям:\n",
    "- a. закрыли хотя бы один займ в течение года\n",
    "- b. у которых на данный момент нет активного займа\n",
    "- c. которым от 25-45 полных лет"
   ]
  },
  {
   "cell_type": "code",
   "execution_count": null,
   "metadata": {},
   "outputs": [],
   "source": [
    "WITH t AS \n",
    "(SELECT KeyC,\n",
    "       COUNT(KeyD) FILTER (WHERE statuZ='выдан') AS issued,\n",
    "       COUNT(KeyD) FILTER (WHERE statuZ='закрыт') AS close\n",
    "FROM application\n",
    "GROUP BY 1) \n",
    " \n",
    "SELECT KeyC\n",
    "FROM t\n",
    "WHERE issued=close\n",
    "AND KeyC IN (\n",
    "SELECT KeyC\n",
    "FROM contract\n",
    "WHERE datClose >= NOW() - INTERVAL '1year')\n",
    "AND KeyC IN (SELECT KeyC\n",
    "FROM (SELECT KeyC,\n",
    "       EXTRACT('year' FROM AGE(datB)) AS full_years\n",
    "FROM client) AS b\n",
    "WHERE full_years BETWEEN '25' AND '45')\n"
   ]
  },
  {
   "cell_type": "markdown",
   "metadata": {},
   "source": [
    "## Задание 3:\n",
    "Необходимо вывести последнюю заявку у клиента. Необходимые поля для выгрузки: KeyZ, datA, StatuZ, ToHome, Полных лет клиенту."
   ]
  },
  {
   "cell_type": "code",
   "execution_count": null,
   "metadata": {},
   "outputs": [],
   "source": [
    "SELECT KeyZ AS key_application,\n",
    "       date_application,\n",
    "       status,\n",
    "       ToHome,\n",
    "       full_years\n",
    "FROM (SELECT a.KeyC,\n",
    "       a.KeyZ,\n",
    "       a.datA AS date_application,\n",
    "       a.StatuZ AS status,\n",
    "       a.ToHome,\n",
    "       MAX(a.datA) OVER (PARTITION BY a.KeyC) AS max_date,\n",
    "       EXTRACT('year' FROM AGE(c.datB)) AS full_years\n",
    "FROM application AS a\n",
    "LEFT JOIN client AS c ON a.KeyC=c.KeyC) AS t\n",
    "WHERE date_application = max_date\n",
    "ORDER BY 1"
   ]
  }
 ],
 "metadata": {
  "kernelspec": {
   "display_name": "Python 3",
   "language": "python",
   "name": "python3"
  },
  "language_info": {
   "codemirror_mode": {
    "name": "ipython",
    "version": 3
   },
   "file_extension": ".py",
   "mimetype": "text/x-python",
   "name": "python",
   "nbconvert_exporter": "python",
   "pygments_lexer": "ipython3",
   "version": "3.7.0"
  }
 },
 "nbformat": 4,
 "nbformat_minor": 2
}
